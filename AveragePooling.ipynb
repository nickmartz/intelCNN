{
 "cells": [
  {
   "cell_type": "code",
   "execution_count": 2,
   "metadata": {},
   "outputs": [
    {
     "name": "stderr",
     "output_type": "stream",
     "text": [
      "Using TensorFlow backend.\n",
      "Matplotlib is building the font cache using fc-list. This may take a moment.\n"
     ]
    }
   ],
   "source": [
    "# Import Keras Packages\n",
    "import keras\n",
    "import tensorflow as tf\n",
    "import matplotlib.pyplot as plt\n",
    "from tensorflow.keras.models import Sequential\n",
    "from tensorflow.keras.layers import Conv2D\n",
    "from tensorflow.keras.layers import AveragePooling2D\n",
    "from tensorflow.keras.layers import Flatten\n",
    "from tensorflow.keras.layers import Dense\n",
    "from tensorflow.keras.preprocessing.image import ImageDataGenerator"
   ]
  },
  {
   "cell_type": "code",
   "execution_count": 6,
   "metadata": {},
   "outputs": [],
   "source": [
    "# Initializing CNN Layers\n",
    "model = Sequential()"
   ]
  },
  {
   "cell_type": "code",
   "execution_count": 7,
   "metadata": {},
   "outputs": [],
   "source": [
    "# First Convolution\n",
    "# 64 Filters which are 3x3\n",
    "# Input image sizes are formatted 150x150 and 3 channels (Red, Blue, Green)\n",
    "# Using ReLU for our activation function\n",
    "model.add(Conv2D(64, kernel_size=(3, 3), input_shape = (150, 150, 3), activation = 'relu'))"
   ]
  },
  {
   "cell_type": "code",
   "execution_count": 8,
   "metadata": {},
   "outputs": [],
   "source": [
    "# Max Pooling Layer 2x2\n",
    "model.add(AveragePooling2D(pool_size = (2, 2)))"
   ]
  },
  {
   "cell_type": "code",
   "execution_count": 9,
   "metadata": {},
   "outputs": [],
   "source": [
    "# Second Convolution\n",
    "# 32 Filters which are 3x3\n",
    "# Input image sizes are formatted 150x150 and 3 channels (Red, Blue, Green)\n",
    "# Using ReLU for our activation function\n",
    "#model.add(Conv2D(32, kernel_size=(3, 3), input_shape = (150, 150, 3), activation = 'relu'))\n",
    "model.add(Conv2D(32, kernel_size=(3, 3), activation = 'relu'))"
   ]
  },
  {
   "cell_type": "code",
   "execution_count": 10,
   "metadata": {},
   "outputs": [],
   "source": [
    "# Max Pooling Layer 2x2\n",
    "model.add(AveragePooling2D(pool_size = (2, 2)))"
   ]
  },
  {
   "cell_type": "code",
   "execution_count": 11,
   "metadata": {},
   "outputs": [],
   "source": [
    "model.add(Flatten())"
   ]
  },
  {
   "cell_type": "code",
   "execution_count": 12,
   "metadata": {},
   "outputs": [],
   "source": [
    "# Fully Connecting Layer\n",
    "model.add(Dense(128, activation = 'relu'))\n",
    "\n",
    "# Return a categorical outcome\n",
    "model.add(Dense(3, activation = 'softmax'))"
   ]
  },
  {
   "cell_type": "code",
   "execution_count": 13,
   "metadata": {},
   "outputs": [],
   "source": [
    "# Compile the CNN\n",
    "model.compile(optimizer = 'adam', loss = 'categorical_crossentropy', metrics = ['accuracy'])"
   ]
  },
  {
   "cell_type": "code",
   "execution_count": 14,
   "metadata": {},
   "outputs": [
    {
     "name": "stdout",
     "output_type": "stream",
     "text": [
      "Found 7057 images belonging to 3 classes.\n",
      "Found 1509 images belonging to 3 classes.\n"
     ]
    }
   ],
   "source": [
    "# Fitting the CNN to the images\n",
    "train_datagen = ImageDataGenerator(rescale = 1./255,\n",
    "                                   shear_range = 0.2,\n",
    "                                   zoom_range = 0.2,\n",
    "                                   horizontal_flip = True)\n",
    "\n",
    "test_datagen = ImageDataGenerator(rescale = 1./255)\n",
    "\n",
    "training_set = train_datagen.flow_from_directory('dataset/seg_train',\n",
    "                                                 target_size = (150, 150),\n",
    "                                                 batch_size = 32,\n",
    "                                                 class_mode = 'categorical')\n",
    "\n",
    "test_set = test_datagen.flow_from_directory('dataset/seg_test',\n",
    "                                            target_size = (150, 150),\n",
    "                                            batch_size = 32,\n",
    "                                            class_mode = 'categorical')"
   ]
  },
  {
   "cell_type": "code",
   "execution_count": 15,
   "metadata": {},
   "outputs": [
    {
     "name": "stdout",
     "output_type": "stream",
     "text": [
      "WARNING:tensorflow:From /Users/mmartz/anaconda3/envs/tensorflow/lib/python3.6/site-packages/tensorflow/python/ops/math_ops.py:3066: to_int32 (from tensorflow.python.ops.math_ops) is deprecated and will be removed in a future version.\n",
      "Instructions for updating:\n",
      "Use tf.cast instead.\n",
      "Epoch 1/10\n",
      "48/48 [==============================] - 21s 431ms/step - loss: 0.5706 - acc: 0.7290\n",
      "221/221 [==============================] - 303s 1s/step - loss: 0.5996 - acc: 0.7213 - val_loss: 0.5706 - val_acc: 0.7290\n",
      "Epoch 2/10\n",
      "48/48 [==============================] - 20s 417ms/step - loss: 0.3634 - acc: 0.8390\n",
      "221/221 [==============================] - 302s 1s/step - loss: 0.4610 - acc: 0.7965 - val_loss: 0.3634 - val_acc: 0.8390\n",
      "Epoch 3/10\n",
      "48/48 [==============================] - 21s 434ms/step - loss: 0.3673 - acc: 0.8423\n",
      "221/221 [==============================] - 294s 1s/step - loss: 0.3837 - acc: 0.8358 - val_loss: 0.3673 - val_acc: 0.8423\n",
      "Epoch 4/10\n",
      "48/48 [==============================] - 20s 421ms/step - loss: 0.3595 - acc: 0.8535\n",
      "221/221 [==============================] - 305s 1s/step - loss: 0.3627 - acc: 0.8512 - val_loss: 0.3595 - val_acc: 0.8535\n",
      "Epoch 5/10\n",
      "48/48 [==============================] - 20s 426ms/step - loss: 0.3558 - acc: 0.8741\n",
      "221/221 [==============================] - 292s 1s/step - loss: 0.3469 - acc: 0.8522 - val_loss: 0.3558 - val_acc: 0.8741\n",
      "Epoch 6/10\n",
      "48/48 [==============================] - 21s 430ms/step - loss: 0.2644 - acc: 0.9019\n",
      "221/221 [==============================] - 290s 1s/step - loss: 0.3016 - acc: 0.8807 - val_loss: 0.2644 - val_acc: 0.9019\n",
      "Epoch 7/10\n",
      "48/48 [==============================] - 20s 427ms/step - loss: 0.2636 - acc: 0.8993\n",
      "221/221 [==============================] - 300s 1s/step - loss: 0.2834 - acc: 0.8856 - val_loss: 0.2636 - val_acc: 0.8993\n",
      "Epoch 8/10\n",
      "48/48 [==============================] - 21s 448ms/step - loss: 0.2344 - acc: 0.9125\n",
      "221/221 [==============================] - 316s 1s/step - loss: 0.2604 - acc: 0.8987 - val_loss: 0.2344 - val_acc: 0.9125\n",
      "Epoch 9/10\n",
      "48/48 [==============================] - 24s 502ms/step - loss: 0.2383 - acc: 0.9059\n",
      "221/221 [==============================] - 321s 1s/step - loss: 0.2394 - acc: 0.9072 - val_loss: 0.2383 - val_acc: 0.9059\n",
      "Epoch 10/10\n",
      "48/48 [==============================] - 25s 530ms/step - loss: 0.2254 - acc: 0.9145\n",
      "221/221 [==============================] - 393s 2s/step - loss: 0.2207 - acc: 0.9143 - val_loss: 0.2254 - val_acc: 0.9145\n"
     ]
    },
    {
     "data": {
      "text/plain": [
       "<tensorflow.python.keras.callbacks.History at 0xb2592dc18>"
      ]
     },
     "execution_count": 15,
     "metadata": {},
     "output_type": "execute_result"
    }
   ],
   "source": [
    "model.fit_generator(training_set,\n",
    "                         steps_per_epoch = 850,\n",
    "                         epochs = 10,\n",
    "                         validation_data = test_set)"
   ]
  },
  {
   "cell_type": "code",
   "execution_count": 1,
   "metadata": {},
   "outputs": [],
   "source": [
    "epoch = [1,2,3,4,5,6,7,8,9,10]\n",
    "loss = [0.5996, 0.4610, 0.3837, 0.3627, 0.3469, 0.3016, 0.2834, 0.2604, 0.2394, 0.2207]\n",
    "accuracies = [0.7290, 0.8390, 0.8423, 0.8535, 0.8741, 0.9019, 0.8993, 0.9125, 0.9059, 0.9145]"
   ]
  },
  {
   "cell_type": "code",
   "execution_count": 7,
   "metadata": {},
   "outputs": [
    {
     "data": {
      "text/plain": [
       "Text(0.5, 1.0, 'Loss Plot (Avg)')"
      ]
     },
     "execution_count": 7,
     "metadata": {},
     "output_type": "execute_result"
    },
    {
     "data": {
      "image/png": "[encoded data removed]",
      "text/plain": [
       "<Figure size 432x288 with 1 Axes>"
      ]
     },
     "metadata": {
      "needs_background": "light"
     },
     "output_type": "display_data"
    }
   ],
   "source": [
    "plt.plot(epoch, loss)\n",
    "plt.xlabel('epoch')\n",
    "plt.ylabel('loss')\n",
    "plt.title('Loss Plot (Avg)')"
   ]
  },
  {
   "cell_type": "code",
   "execution_count": 8,
   "metadata": {},
   "outputs": [
    {
     "data": {
      "text/plain": [
       "Text(0.5, 1.0, 'Accuracies Plot (Avg)')"
      ]
     },
     "execution_count": 8,
     "metadata": {},
     "output_type": "execute_result"
    },
    {
     "data": {
      "image/png": "[encoded data removed]",
      "text/plain": [
       "<Figure size 432x288 with 1 Axes>"
      ]
     },
     "metadata": {
      "needs_background": "light"
     },
     "output_type": "display_data"
    }
   ],
   "source": [
    "plt.plot(epoch, accuracies)\n",
    "plt.xlabel('epoch')\n",
    "plt.ylabel('accuracies')\n",
    "plt.title('Accuracies Plot (Avg)')"
   ]
  },
  {
   "cell_type": "code",
   "execution_count": null,
   "metadata": {},
   "outputs": [],
   "source": []
  }
 ],
 "metadata": {
  "kernelspec": {
   "display_name": "Python 3.6 (tensorflow)",
   "language": "python",
   "name": "tensorflow"
  },
  "language_info": {
   "codemirror_mode": {
    "name": "ipython",
    "version": 3
   },
   "file_extension": ".py",
   "mimetype": "text/x-python",
   "name": "python",
   "nbconvert_exporter": "python",
   "pygments_lexer": "ipython3",
   "version": "3.6.8"
  }
 },
 "nbformat": 4,
 "nbformat_minor": 2
}
