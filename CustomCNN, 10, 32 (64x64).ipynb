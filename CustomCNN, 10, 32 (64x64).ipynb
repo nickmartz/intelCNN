{
 "cells": [
  {
   "cell_type": "code",
   "execution_count": 6,
   "metadata": {},
   "outputs": [],
   "source": [
    "# Import Keras Packages\n",
    "import keras\n",
    "import tensorflow as tf\n",
    "import matplotlib.pyplot as plt\n",
    "from tensorflow.keras.models import Sequential\n",
    "from tensorflow.keras.layers import Conv2D\n",
    "from tensorflow.keras.layers import MaxPooling2D\n",
    "from tensorflow.keras.layers import Flatten\n",
    "from tensorflow.keras.layers import Dense\n",
    "from tensorflow.keras.preprocessing.image import ImageDataGenerator"
   ]
  },
  {
   "cell_type": "code",
   "execution_count": 7,
   "metadata": {},
   "outputs": [],
   "source": [
    "# Initializing CNN Layers\n",
    "model = Sequential()"
   ]
  },
  {
   "cell_type": "code",
   "execution_count": 8,
   "metadata": {},
   "outputs": [],
   "source": [
    "# First Convolution\n",
    "# 64 Filters which are 3x3\n",
    "# Input image sizes are formatted 150x150 and 3 channels (Red, Blue, Green)\n",
    "# Using ReLU for our activation function\n",
    "model.add(Conv2D(64, kernel_size=(3, 3), input_shape = (64, 64, 3), activation = 'relu'))"
   ]
  },
  {
   "cell_type": "code",
   "execution_count": 9,
   "metadata": {},
   "outputs": [],
   "source": [
    "# Max Pooling Layer 2x2\n",
    "model.add(MaxPooling2D(pool_size = (2, 2)))"
   ]
  },
  {
   "cell_type": "code",
   "execution_count": 10,
   "metadata": {},
   "outputs": [],
   "source": [
    "# Second Convolution\n",
    "# 32 Filters which are 3x3\n",
    "# Input image sizes are formatted 150x150 and 3 channels (Red, Blue, Green)\n",
    "# Using ReLU for our activation function\n",
    "#model.add(Conv2D(32, kernel_size=(3, 3), input_shape = (150, 150, 3), activation = 'relu'))\n",
    "model.add(Conv2D(32, kernel_size=(3, 3), activation = 'relu'))"
   ]
  },
  {
   "cell_type": "code",
   "execution_count": 11,
   "metadata": {},
   "outputs": [],
   "source": [
    "# Max Pooling Layer 2x2\n",
    "model.add(MaxPooling2D(pool_size = (2, 2)))"
   ]
  },
  {
   "cell_type": "code",
   "execution_count": 12,
   "metadata": {},
   "outputs": [],
   "source": [
    "model.add(Flatten())"
   ]
  },
  {
   "cell_type": "code",
   "execution_count": 13,
   "metadata": {},
   "outputs": [],
   "source": [
    "# Fully Connecting Layer\n",
    "model.add(Dense(128, activation = 'relu'))\n",
    "\n",
    "# Return a categorical outcome\n",
    "model.add(Dense(3, activation = 'softmax'))"
   ]
  },
  {
   "cell_type": "code",
   "execution_count": 14,
   "metadata": {},
   "outputs": [],
   "source": [
    "# Compile the CNN\n",
    "model.compile(optimizer = 'adam', loss = 'categorical_crossentropy', metrics = ['accuracy'])"
   ]
  },
  {
   "cell_type": "code",
   "execution_count": 15,
   "metadata": {},
   "outputs": [
    {
     "name": "stdout",
     "output_type": "stream",
     "text": [
      "Found 7057 images belonging to 3 classes.\n",
      "Found 1509 images belonging to 3 classes.\n"
     ]
    }
   ],
   "source": [
    "# Fitting the CNN to the images\n",
    "train_datagen = ImageDataGenerator(rescale = 1./255,\n",
    "                                   shear_range = 0.2,\n",
    "                                   zoom_range = 0.2,\n",
    "                                   horizontal_flip = True)\n",
    "\n",
    "test_datagen = ImageDataGenerator(rescale = 1./255)\n",
    "\n",
    "training_set = train_datagen.flow_from_directory('dataset/seg_train',\n",
    "                                                 target_size = (64, 64),\n",
    "                                                 batch_size = 32,\n",
    "                                                 class_mode = 'categorical')\n",
    "\n",
    "test_set = test_datagen.flow_from_directory('dataset/seg_test',\n",
    "                                            target_size = (64, 64),\n",
    "                                            batch_size = 32,\n",
    "                                            class_mode = 'categorical')"
   ]
  },
  {
   "cell_type": "code",
   "execution_count": 16,
   "metadata": {},
   "outputs": [
    {
     "name": "stdout",
     "output_type": "stream",
     "text": [
      "WARNING:tensorflow:From /Users/mmartz/anaconda3/envs/tensorflow/lib/python3.6/site-packages/tensorflow/python/ops/math_ops.py:3066: to_int32 (from tensorflow.python.ops.math_ops) is deprecated and will be removed in a future version.\n",
      "Instructions for updating:\n",
      "Use tf.cast instead.\n",
      "Epoch 1/15\n",
      "48/48 [==============================] - 11s 236ms/step - loss: 0.4499 - acc: 0.7939\n",
      "221/221 [==============================] - 105s 474ms/step - loss: 0.5349 - acc: 0.7481 - val_loss: 0.4499 - val_acc: 0.7939\n",
      "Epoch 2/15\n",
      "48/48 [==============================] - 12s 244ms/step - loss: 0.2913 - acc: 0.8847\n",
      "221/221 [==============================] - 117s 531ms/step - loss: 0.3938 - acc: 0.8311 - val_loss: 0.2913 - val_acc: 0.8847\n",
      "Epoch 3/15\n",
      "48/48 [==============================] - 8s 169ms/step - loss: 0.2445 - acc: 0.9059\n",
      "221/221 [==============================] - 107s 482ms/step - loss: 0.3402 - acc: 0.8607 - val_loss: 0.2445 - val_acc: 0.9059\n",
      "Epoch 4/15\n",
      "48/48 [==============================] - 12s 256ms/step - loss: 0.2315 - acc: 0.9119\n",
      "221/221 [==============================] - 107s 482ms/step - loss: 0.3007 - acc: 0.8834 - val_loss: 0.2315 - val_acc: 0.9119\n",
      "Epoch 5/15\n",
      "48/48 [==============================] - 9s 185ms/step - loss: 0.2824 - acc: 0.9032\n",
      "221/221 [==============================] - 110s 498ms/step - loss: 0.2648 - acc: 0.8992 - val_loss: 0.2824 - val_acc: 0.9032\n",
      "Epoch 6/15\n",
      "48/48 [==============================] - 10s 209ms/step - loss: 0.2284 - acc: 0.9079\n",
      "221/221 [==============================] - 103s 466ms/step - loss: 0.2327 - acc: 0.9121 - val_loss: 0.2284 - val_acc: 0.9079\n",
      "Epoch 7/15\n",
      "48/48 [==============================] - 10s 209ms/step - loss: 0.2251 - acc: 0.9198\n",
      "221/221 [==============================] - 106s 482ms/step - loss: 0.2290 - acc: 0.9102 - val_loss: 0.2251 - val_acc: 0.9198\n",
      "Epoch 8/15\n",
      "48/48 [==============================] - 8s 175ms/step - loss: 0.2159 - acc: 0.9172\n",
      "221/221 [==============================] - 105s 473ms/step - loss: 0.2041 - acc: 0.9256 - val_loss: 0.2159 - val_acc: 0.9172\n",
      "Epoch 9/15\n",
      "48/48 [==============================] - 9s 189ms/step - loss: 0.2305 - acc: 0.9211\n",
      "221/221 [==============================] - 98s 442ms/step - loss: 0.2062 - acc: 0.9262 - val_loss: 0.2305 - val_acc: 0.9211\n",
      "Epoch 10/15\n",
      "48/48 [==============================] - 9s 190ms/step - loss: 0.3264 - acc: 0.8774\n",
      "221/221 [==============================] - 101s 458ms/step - loss: 0.1874 - acc: 0.9294 - val_loss: 0.3264 - val_acc: 0.8774\n",
      "Epoch 11/15\n",
      "48/48 [==============================] - 5s 98ms/step - loss: 0.1819 - acc: 0.9370\n",
      "221/221 [==============================] - 88s 396ms/step - loss: 0.1787 - acc: 0.9364 - val_loss: 0.1819 - val_acc: 0.9370\n",
      "Epoch 12/15\n",
      "48/48 [==============================] - 4s 84ms/step - loss: 0.2213 - acc: 0.9271\n",
      "221/221 [==============================] - 56s 251ms/step - loss: 0.1672 - acc: 0.9371 - val_loss: 0.2213 - val_acc: 0.9271\n",
      "Epoch 13/15\n",
      "48/48 [==============================] - 5s 106ms/step - loss: 0.1911 - acc: 0.9324\n",
      "221/221 [==============================] - 64s 290ms/step - loss: 0.1556 - acc: 0.9396 - val_loss: 0.1911 - val_acc: 0.9324\n",
      "Epoch 14/15\n",
      "48/48 [==============================] - 5s 104ms/step - loss: 0.2521 - acc: 0.9125\n",
      "221/221 [==============================] - 68s 306ms/step - loss: 0.1533 - acc: 0.9415 - val_loss: 0.2521 - val_acc: 0.9125\n",
      "Epoch 15/15\n",
      "48/48 [==============================] - 5s 96ms/step - loss: 0.2406 - acc: 0.9245\n",
      "221/221 [==============================] - 61s 275ms/step - loss: 0.1422 - acc: 0.9483 - val_loss: 0.2406 - val_acc: 0.9245\n"
     ]
    },
    {
     "data": {
      "text/plain": [
       "<tensorflow.python.keras.callbacks.History at 0xb30e6f438>"
      ]
     },
     "execution_count": 16,
     "metadata": {},
     "output_type": "execute_result"
    }
   ],
   "source": [
    "model.fit_generator(training_set,\n",
    "                    epochs = 15,\n",
    "                    validation_data = test_set)"
   ]
  },
  {
   "cell_type": "code",
   "execution_count": 18,
   "metadata": {},
   "outputs": [],
   "source": [
    "epoch = [1, 2, 3, 4, 5, 6, 7, 8, 9, 10, 11, 12, 13, 14, 15]\n",
    "loss = [0.4499, 0.2913, 0.2445, 0.2315, 0.2824, 0.2284, 0.2251, 0.2159, 0.2305, 0.3264, 0.1819, 0.2213, 0.1911, 0.2521, 0.2406]\n",
    "accuracies = [0.7939, 0.8847, 0.9059, 0.9119, 0.9032, 0.9079, 0.9198, 0.9172, 0.9211, 0.8774, 0.9370, 0.9271, 0.9324, 0.9125, 0.9245]"
   ]
  },
  {
   "cell_type": "code",
   "execution_count": 19,
   "metadata": {},
   "outputs": [
    {
     "data": {
      "text/plain": [
       "Text(0.5, 1.0, 'Accuracies Plot (Custom)')"
      ]
     },
     "execution_count": 19,
     "metadata": {},
     "output_type": "execute_result"
    },
    {
     "data": {
      "image/png": "[encoded data removed]",
      "text/plain": [
       "<Figure size 432x288 with 1 Axes>"
      ]
     },
     "metadata": {
      "needs_background": "light"
     },
     "output_type": "display_data"
    }
   ],
   "source": [
    "plt.plot(epoch, accuracies)\n",
    "plt.xlabel('epoch')\n",
    "plt.ylabel('accuracies')\n",
    "plt.title('Accuracies Plot (Custom)')"
   ]
  },
  {
   "cell_type": "code",
   "execution_count": 20,
   "metadata": {},
   "outputs": [
    {
     "data": {
      "text/plain": [
       "Text(0.5, 1.0, 'Loss Plot (Custom)')"
      ]
     },
     "execution_count": 20,
     "metadata": {},
     "output_type": "execute_result"
    },
    {
     "data": {
      "image/png": "[encoded data removed]",
      "text/plain": [
       "<Figure size 432x288 with 1 Axes>"
      ]
     },
     "metadata": {
      "needs_background": "light"
     },
     "output_type": "display_data"
    }
   ],
   "source": [
    "plt.plot(epoch, loss)\n",
    "plt.xlabel('epoch')\n",
    "plt.ylabel('loss')\n",
    "plt.title('Loss Plot (Custom)')"
   ]
  },
  {
   "cell_type": "code",
   "execution_count": null,
   "metadata": {},
   "outputs": [],
   "source": []
  }
 ],
 "metadata": {
  "kernelspec": {
   "display_name": "Python 3.6 (tensorflow)",
   "language": "python",
   "name": "tensorflow"
  },
  "language_info": {
   "codemirror_mode": {
    "name": "ipython",
    "version": 3
   },
   "file_extension": ".py",
   "mimetype": "text/x-python",
   "name": "python",
   "nbconvert_exporter": "python",
   "pygments_lexer": "ipython3",
   "version": "3.6.8"
  }
 },
 "nbformat": 4,
 "nbformat_minor": 2
}
