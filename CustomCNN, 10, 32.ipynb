{
 "cells": [
  {
   "cell_type": "code",
   "execution_count": 12,
   "metadata": {},
   "outputs": [],
   "source": [
    "# Import Keras Packages\n",
    "import keras\n",
    "import tensorflow as tf\n",
    "import matplotlib.pyplot as plt\n",
    "from tensorflow.keras.models import Sequential\n",
    "from tensorflow.keras.layers import Conv2D\n",
    "from tensorflow.keras.layers import MaxPooling2D\n",
    "from tensorflow.keras.layers import Flatten\n",
    "from tensorflow.keras.layers import Dense\n",
    "from tensorflow.keras.preprocessing.image import ImageDataGenerator"
   ]
  },
  {
   "cell_type": "code",
   "execution_count": 2,
   "metadata": {},
   "outputs": [],
   "source": [
    "# Initializing CNN Layers\n",
    "model = Sequential()"
   ]
  },
  {
   "cell_type": "code",
   "execution_count": 3,
   "metadata": {},
   "outputs": [
    {
     "name": "stdout",
     "output_type": "stream",
     "text": [
      "WARNING:tensorflow:From /Users/mmartz/anaconda3/envs/tensorflow/lib/python3.6/site-packages/tensorflow/python/ops/resource_variable_ops.py:435: colocate_with (from tensorflow.python.framework.ops) is deprecated and will be removed in a future version.\n",
      "Instructions for updating:\n",
      "Colocations handled automatically by placer.\n"
     ]
    }
   ],
   "source": [
    "# First Convolution\n",
    "# 64 Filters which are 3x3\n",
    "# Input image sizes are formatted 150x150 and 3 channels (Red, Blue, Green)\n",
    "# Using ReLU for our activation function\n",
    "model.add(Conv2D(64, kernel_size=(3, 3), input_shape = (150, 150, 3), activation = 'relu'))"
   ]
  },
  {
   "cell_type": "code",
   "execution_count": 4,
   "metadata": {},
   "outputs": [],
   "source": [
    "# Max Pooling Layer 2x2\n",
    "model.add(MaxPooling2D(pool_size = (2, 2)))"
   ]
  },
  {
   "cell_type": "code",
   "execution_count": 5,
   "metadata": {},
   "outputs": [],
   "source": [
    "# Second Convolution\n",
    "# 32 Filters which are 3x3\n",
    "# Input image sizes are formatted 150x150 and 3 channels (Red, Blue, Green)\n",
    "# Using ReLU for our activation function\n",
    "#model.add(Conv2D(32, kernel_size=(3, 3), input_shape = (150, 150, 3), activation = 'relu'))\n",
    "model.add(Conv2D(32, kernel_size=(3, 3), activation = 'relu'))"
   ]
  },
  {
   "cell_type": "code",
   "execution_count": 6,
   "metadata": {},
   "outputs": [],
   "source": [
    "# Max Pooling Layer 2x2\n",
    "model.add(MaxPooling2D(pool_size = (2, 2)))"
   ]
  },
  {
   "cell_type": "code",
   "execution_count": 7,
   "metadata": {},
   "outputs": [],
   "source": [
    "model.add(Flatten())"
   ]
  },
  {
   "cell_type": "code",
   "execution_count": 8,
   "metadata": {},
   "outputs": [],
   "source": [
    "# Fully Connecting Layer\n",
    "model.add(Dense(128, activation = 'relu'))\n",
    "\n",
    "# Return a categorical outcome\n",
    "model.add(Dense(3, activation = 'softmax'))"
   ]
  },
  {
   "cell_type": "code",
   "execution_count": 9,
   "metadata": {},
   "outputs": [],
   "source": [
    "# Compile the CNN\n",
    "model.compile(optimizer = 'adam', loss = 'categorical_crossentropy', metrics = ['accuracy'])"
   ]
  },
  {
   "cell_type": "code",
   "execution_count": 10,
   "metadata": {},
   "outputs": [
    {
     "name": "stdout",
     "output_type": "stream",
     "text": [
      "Found 7057 images belonging to 3 classes.\n",
      "Found 1509 images belonging to 3 classes.\n"
     ]
    }
   ],
   "source": [
    "# Fitting the CNN to the images\n",
    "train_datagen = ImageDataGenerator(rescale = 1./255,\n",
    "                                   shear_range = 0.2,\n",
    "                                   zoom_range = 0.2,\n",
    "                                   horizontal_flip = True)\n",
    "\n",
    "test_datagen = ImageDataGenerator(rescale = 1./255)\n",
    "\n",
    "training_set = train_datagen.flow_from_directory('dataset/seg_train',\n",
    "                                                 target_size = (150, 150),\n",
    "                                                 batch_size = 32,\n",
    "                                                 class_mode = 'categorical')\n",
    "\n",
    "test_set = test_datagen.flow_from_directory('dataset/seg_test',\n",
    "                                            target_size = (150, 150),\n",
    "                                            batch_size = 32,\n",
    "                                            class_mode = 'categorical')"
   ]
  },
  {
   "cell_type": "code",
   "execution_count": 11,
   "metadata": {},
   "outputs": [
    {
     "name": "stdout",
     "output_type": "stream",
     "text": [
      "WARNING:tensorflow:From /Users/mmartz/anaconda3/envs/tensorflow/lib/python3.6/site-packages/tensorflow/python/ops/math_ops.py:3066: to_int32 (from tensorflow.python.ops.math_ops) is deprecated and will be removed in a future version.\n",
      "Instructions for updating:\n",
      "Use tf.cast instead.\n",
      "Epoch 1/10\n",
      "48/48 [==============================] - 21s 433ms/step - loss: 0.3443 - acc: 0.8602\n",
      "221/221 [==============================] - 366s 2s/step - loss: 0.4923 - acc: 0.7789 - val_loss: 0.3443 - val_acc: 0.8602\n",
      "Epoch 2/10\n",
      "48/48 [==============================] - 21s 429ms/step - loss: 0.2907 - acc: 0.8907\n",
      "221/221 [==============================] - 324s 1s/step - loss: 0.3798 - acc: 0.8417 - val_loss: 0.2907 - val_acc: 0.8907\n",
      "Epoch 3/10\n",
      "48/48 [==============================] - 20s 419ms/step - loss: 0.2835 - acc: 0.8887\n",
      "221/221 [==============================] - 309s 1s/step - loss: 0.3065 - acc: 0.8759 - val_loss: 0.2835 - val_acc: 0.8887\n",
      "Epoch 4/10\n",
      "48/48 [==============================] - 20s 421ms/step - loss: 0.4771 - acc: 0.8065\n",
      "221/221 [==============================] - 302s 1s/step - loss: 0.2873 - acc: 0.8919 - val_loss: 0.4771 - val_acc: 0.8065\n",
      "Epoch 5/10\n",
      "48/48 [==============================] - 20s 417ms/step - loss: 0.2031 - acc: 0.9225\n",
      "221/221 [==============================] - 302s 1s/step - loss: 0.2559 - acc: 0.9019 - val_loss: 0.2031 - val_acc: 0.9225\n",
      "Epoch 6/10\n",
      "48/48 [==============================] - 23s 478ms/step - loss: 0.2038 - acc: 0.9231\n",
      "221/221 [==============================] - 320s 1s/step - loss: 0.2153 - acc: 0.9188 - val_loss: 0.2038 - val_acc: 0.9231\n",
      "Epoch 7/10\n",
      "48/48 [==============================] - 21s 438ms/step - loss: 0.1832 - acc: 0.9298\n",
      "221/221 [==============================] - 337s 2s/step - loss: 0.1986 - acc: 0.9252 - val_loss: 0.1832 - val_acc: 0.9298\n",
      "Epoch 8/10\n",
      "48/48 [==============================] - 21s 429ms/step - loss: 0.1948 - acc: 0.9317\n",
      "221/221 [==============================] - 319s 1s/step - loss: 0.1864 - acc: 0.9286 - val_loss: 0.1948 - val_acc: 0.9317\n",
      "Epoch 9/10\n",
      "48/48 [==============================] - 21s 429ms/step - loss: 0.1840 - acc: 0.9351\n",
      "221/221 [==============================] - 315s 1s/step - loss: 0.1722 - acc: 0.9351 - val_loss: 0.1840 - val_acc: 0.9351\n",
      "Epoch 10/10\n",
      "48/48 [==============================] - 21s 428ms/step - loss: 0.1906 - acc: 0.9298\n",
      "221/221 [==============================] - 308s 1s/step - loss: 0.1762 - acc: 0.9335 - val_loss: 0.1906 - val_acc: 0.9298\n"
     ]
    },
    {
     "data": {
      "text/plain": [
       "<tensorflow.python.keras.callbacks.History at 0xb313ab320>"
      ]
     },
     "execution_count": 11,
     "metadata": {},
     "output_type": "execute_result"
    }
   ],
   "source": [
    "model.fit_generator(training_set,\n",
    "                    epochs = 10,\n",
    "                    validation_data = test_set)"
   ]
  },
  {
   "cell_type": "code",
   "execution_count": 13,
   "metadata": {},
   "outputs": [],
   "source": [
    "epoch = [1, 2, 3, 4, 5, 6, 7, 8, 9, 10]\n",
    "loss = [0.3443, 0.2907, 0.2835, 0.4771, 0.2031, 0.2038, 0.1832, 0.1948, 0.1840, 0.1906]\n",
    "accuracies = [0.8602, 0.8907, 0.8887, 0.8065, 0.9225, 0.9231, 0.9298, 0.9317, 0.9351, 0.9298]"
   ]
  },
  {
   "cell_type": "code",
   "execution_count": 24,
   "metadata": {},
   "outputs": [
    {
     "data": {
      "text/plain": [
       "Text(0.5, 1.0, 'Accuracies Plot (Custom)')"
      ]
     },
     "execution_count": 24,
     "metadata": {},
     "output_type": "execute_result"
    },
    {
     "data": {
      "image/png": "[encoded data removed]",
      "text/plain": [
       "<Figure size 432x288 with 1 Axes>"
      ]
     },
     "metadata": {
      "needs_background": "light"
     },
     "output_type": "display_data"
    }
   ],
   "source": [
    "plt.plot(epoch, accuracies)\n",
    "plt.xlabel('epoch')\n",
    "plt.ylabel('accuracies')\n",
    "plt.title('Accuracies Plot (Custom)')"
   ]
  },
  {
   "cell_type": "code",
   "execution_count": 25,
   "metadata": {},
   "outputs": [
    {
     "data": {
      "text/plain": [
       "Text(0.5, 1.0, 'Loss Plot (Custom)')"
      ]
     },
     "execution_count": 25,
     "metadata": {},
     "output_type": "execute_result"
    },
    {
     "data": {
      "image/png": "[encoded data removed]",
      "text/plain": [
       "<Figure size 432x288 with 1 Axes>"
      ]
     },
     "metadata": {
      "needs_background": "light"
     },
     "output_type": "display_data"
    }
   ],
   "source": [
    "plt.plot(epoch, loss)\n",
    "plt.xlabel('epoch')\n",
    "plt.ylabel('loss')\n",
    "plt.title('Loss Plot (Custom)')"
   ]
  },
  {
   "cell_type": "code",
   "execution_count": null,
   "metadata": {},
   "outputs": [],
   "source": []
  }
 ],
 "metadata": {
  "kernelspec": {
   "display_name": "Python 3.6 (tensorflow)",
   "language": "python",
   "name": "tensorflow"
  },
  "language_info": {
   "codemirror_mode": {
    "name": "ipython",
    "version": 3
   },
   "file_extension": ".py",
   "mimetype": "text/x-python",
   "name": "python",
   "nbconvert_exporter": "python",
   "pygments_lexer": "ipython3",
   "version": "3.6.8"
  }
 },
 "nbformat": 4,
 "nbformat_minor": 2
}
