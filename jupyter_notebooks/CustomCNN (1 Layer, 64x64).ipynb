{
 "cells": [
  {
   "cell_type": "code",
   "execution_count": 11,
   "metadata": {},
   "outputs": [],
   "source": [
    "# Import Keras Packages\n",
    "import keras\n",
    "import tensorflow as tf\n",
    "import matplotlib.pyplot as plt\n",
    "from tensorflow.keras.models import Sequential\n",
    "from tensorflow.keras.layers import Conv2D\n",
    "from tensorflow.keras.layers import MaxPooling2D\n",
    "from tensorflow.keras.layers import Flatten\n",
    "from tensorflow.keras.layers import Dense\n",
    "from tensorflow.keras.preprocessing.image import ImageDataGenerator"
   ]
  },
  {
   "cell_type": "code",
   "execution_count": 12,
   "metadata": {},
   "outputs": [],
   "source": [
    "# Initializing CNN Layers\n",
    "model = Sequential()"
   ]
  },
  {
   "cell_type": "code",
   "execution_count": 13,
   "metadata": {},
   "outputs": [],
   "source": [
    "# First Convolution\n",
    "# 64 Filters which are 3x3\n",
    "# Input image sizes are formatted 150x150 and 3 channels (Red, Blue, Green)\n",
    "# Using ReLU for our activation function\n",
    "model.add(Conv2D(32, kernel_size=(3, 3), input_shape = (64, 64, 3), activation = 'relu'))"
   ]
  },
  {
   "cell_type": "code",
   "execution_count": 14,
   "metadata": {},
   "outputs": [],
   "source": [
    "# Max Pooling Layer 2x2\n",
    "model.add(MaxPooling2D(pool_size = (2, 2)))"
   ]
  },
  {
   "cell_type": "code",
   "execution_count": 15,
   "metadata": {},
   "outputs": [],
   "source": [
    "model.add(Flatten())"
   ]
  },
  {
   "cell_type": "code",
   "execution_count": 16,
   "metadata": {},
   "outputs": [],
   "source": [
    "# Fully Connecting Layer\n",
    "model.add(Dense(128, activation = 'relu'))\n",
    "\n",
    "# Return a categorical outcome\n",
    "model.add(Dense(3, activation = 'softmax'))"
   ]
  },
  {
   "cell_type": "code",
   "execution_count": 17,
   "metadata": {},
   "outputs": [],
   "source": [
    "# Compile the CNN\n",
    "model.compile(optimizer = 'adam', loss = 'categorical_crossentropy', metrics = ['accuracy'])"
   ]
  },
  {
   "cell_type": "code",
   "execution_count": 18,
   "metadata": {},
   "outputs": [
    {
     "name": "stdout",
     "output_type": "stream",
     "text": [
      "Found 7057 images belonging to 3 classes.\n",
      "Found 1509 images belonging to 3 classes.\n"
     ]
    }
   ],
   "source": [
    "# Fitting the CNN to the images\n",
    "train_datagen = ImageDataGenerator(rescale = 1./255,\n",
    "                                   shear_range = 0.2,\n",
    "                                   zoom_range = 0.2,\n",
    "                                   horizontal_flip = True)\n",
    "\n",
    "test_datagen = ImageDataGenerator(rescale = 1./255)\n",
    "\n",
    "training_set = train_datagen.flow_from_directory('dataset/seg_train',\n",
    "                                                 target_size = (64, 64),\n",
    "                                                 batch_size = 32,\n",
    "                                                 class_mode = 'categorical')\n",
    "\n",
    "test_set = test_datagen.flow_from_directory('dataset/seg_test',\n",
    "                                            target_size = (64, 64),\n",
    "                                            batch_size = 32,\n",
    "                                            class_mode = 'categorical')"
   ]
  },
  {
   "cell_type": "code",
   "execution_count": 19,
   "metadata": {},
   "outputs": [
    {
     "name": "stdout",
     "output_type": "stream",
     "text": [
      "Epoch 1/15\n",
      "221/221 [==============================] - 43s 194ms/step - loss: 0.5636 - acc: 0.7549 - val_loss: 0.3662 - val_acc: 0.8496\n",
      "Epoch 2/15\n",
      "221/221 [==============================] - 59s 266ms/step - loss: 0.3951 - acc: 0.8300 - val_loss: 0.3140 - val_acc: 0.8807\n",
      "Epoch 3/15\n",
      "221/221 [==============================] - 51s 230ms/step - loss: 0.3676 - acc: 0.8401 - val_loss: 0.3636 - val_acc: 0.8608\n",
      "Epoch 4/15\n",
      "221/221 [==============================] - 47s 211ms/step - loss: 0.3421 - acc: 0.8578 - val_loss: 0.3699 - val_acc: 0.8429\n",
      "Epoch 5/15\n",
      "221/221 [==============================] - 45s 202ms/step - loss: 0.3325 - acc: 0.8633 - val_loss: 0.2841 - val_acc: 0.8926\n",
      "Epoch 6/15\n",
      "221/221 [==============================] - 50s 227ms/step - loss: 0.2951 - acc: 0.8808 - val_loss: 0.3387 - val_acc: 0.8741\n",
      "Epoch 7/15\n",
      "221/221 [==============================] - 50s 226ms/step - loss: 0.2993 - acc: 0.8776 - val_loss: 0.5670 - val_acc: 0.7753\n",
      "Epoch 8/15\n",
      "221/221 [==============================] - 50s 227ms/step - loss: 0.2721 - acc: 0.8944 - val_loss: 0.2991 - val_acc: 0.8834\n",
      "Epoch 9/15\n",
      "221/221 [==============================] - 45s 205ms/step - loss: 0.2470 - acc: 0.9047 - val_loss: 0.2558 - val_acc: 0.9079\n",
      "Epoch 10/15\n",
      "221/221 [==============================] - 45s 202ms/step - loss: 0.2600 - acc: 0.8927 - val_loss: 0.3236 - val_acc: 0.8873\n",
      "Epoch 11/15\n",
      "221/221 [==============================] - 40s 181ms/step - loss: 0.2278 - acc: 0.9102 - val_loss: 0.3679 - val_acc: 0.8297\n",
      "Epoch 12/15\n",
      "221/221 [==============================] - 52s 237ms/step - loss: 0.2282 - acc: 0.9104 - val_loss: 0.2747 - val_acc: 0.8973\n",
      "Epoch 13/15\n",
      "221/221 [==============================] - 46s 206ms/step - loss: 0.2188 - acc: 0.9186 - val_loss: 0.2688 - val_acc: 0.8920\n",
      "Epoch 14/15\n",
      "221/221 [==============================] - 40s 179ms/step - loss: 0.2062 - acc: 0.9211 - val_loss: 0.2688 - val_acc: 0.9039\n",
      "Epoch 15/15\n",
      "221/221 [==============================] - 44s 200ms/step - loss: 0.1969 - acc: 0.9228 - val_loss: 0.2838 - val_acc: 0.8946\n"
     ]
    },
    {
     "data": {
      "text/plain": [
       "<tensorflow.python.keras.callbacks.History at 0x7f343b4287b8>"
      ]
     },
     "execution_count": 19,
     "metadata": {},
     "output_type": "execute_result"
    }
   ],
   "source": [
    "model.fit_generator(training_set,\n",
    "                    epochs = 15,\n",
    "                    validation_data = test_set)"
   ]
  },
  {
   "cell_type": "code",
   "execution_count": 20,
   "metadata": {},
   "outputs": [],
   "source": [
    "epoch = [1, 2, 3, 4, 5, 6, 7, 8, 9, 10, 11, 12, 13, 14, 15]\n",
    "loss = [0.5636, 0.3951, 0.3676, 0.3421, 0.3325, 0.2951, 0.2993, 0.2721, 0.2470, 0.2600, 0.2278, 0.2282, 0.2188, 0.2062, 0.1969]\n",
    "acc = [0.7549, 0.8300, 0.8401, 0.8578, 0.8633, 0.8808, 0.8776, 0.8944, 0.9047, 0.8927, 0.9102, 0.9104, 0.9186, 0.9211, 0.9228]"
   ]
  },
  {
   "cell_type": "code",
   "execution_count": 21,
   "metadata": {},
   "outputs": [
    {
     "data": {
      "text/plain": [
       "Text(0.5, 1.0, 'Loss Graph (64x64)')"
      ]
     },
     "execution_count": 21,
     "metadata": {},
     "output_type": "execute_result"
    },
    {
     "data": {
      "image/png": "[encoded data removed]",
      "text/plain": [
       "<Figure size 432x288 with 1 Axes>"
      ]
     },
     "metadata": {
      "needs_background": "light"
     },
     "output_type": "display_data"
    }
   ],
   "source": [
    "plt.plot(epoch, loss)\n",
    "plt.xlabel('epoch')\n",
    "plt.ylabel('loss')\n",
    "plt.title('Loss Graph (64x64)')"
   ]
  },
  {
   "cell_type": "code",
   "execution_count": 22,
   "metadata": {},
   "outputs": [
    {
     "data": {
      "text/plain": [
       "Text(0.5, 1.0, 'Acc Graph (64x64)')"
      ]
     },
     "execution_count": 22,
     "metadata": {},
     "output_type": "execute_result"
    },
    {
     "data": {
      "image/png": "[encoded data removed]",
      "text/plain": [
       "<Figure size 432x288 with 1 Axes>"
      ]
     },
     "metadata": {
      "needs_background": "light"
     },
     "output_type": "display_data"
    }
   ],
   "source": [
    "plt.plot(epoch, acc)\n",
    "plt.xlabel('epoch')\n",
    "plt.ylabel('accuracies')\n",
    "plt.title('Acc Graph (64x64)')"
   ]
  },
  {
   "cell_type": "code",
   "execution_count": null,
   "metadata": {},
   "outputs": [],
   "source": []
  }
 ],
 "metadata": {
  "kernelspec": {
   "display_name": "Python 3",
   "language": "python",
   "name": "python3"
  },
  "language_info": {
   "codemirror_mode": {
    "name": "ipython",
    "version": 3
   },
   "file_extension": ".py",
   "mimetype": "text/x-python",
   "name": "python",
   "nbconvert_exporter": "python",
   "pygments_lexer": "ipython3",
   "version": "3.7.1"
  }
 },
 "nbformat": 4,
 "nbformat_minor": 2
}
